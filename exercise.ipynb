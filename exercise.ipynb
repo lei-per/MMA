{
 "cells": [
  {
   "cell_type": "markdown",
   "metadata": {},
   "source": [
    "# MMA Offshore’s PE\n",
    "\n",
    "***This project investigates the P/E ratio of an ASX-listed company to gain insight into the approach used by asset managers.***"
   ]
  },
  {
   "cell_type": "markdown",
   "metadata": {},
   "source": [
    "***\n",
    "### Section 1\n",
    "> *Create a simple profit and loss account (using the same line-items as the company does) in Excel for the last 3 full financial years. Focus on continuing operations (we will assume the company is honest about what is a ‘one-off’ item of expense or income). Use Excel formulas to calculate sub-totals and totals.*"
   ]
  },
  {
   "cell_type": "markdown",
   "metadata": {},
   "source": [
    "Financials data has been collected from annual reports retrieved from the company website: https://www.mmaoffshore.com/investor-centre/financial-reports\n",
    "\n",
    "Profit and loss accounts for continuing operations has stored in a CSV file: https://github.com/lei-per/MMA/blob/master/financials.csv\n",
    "\n",
    "The script below reads the data from the CSV file into a dataframe in R."
   ]
  },
  {
   "cell_type": "code",
   "execution_count": 1,
   "metadata": {
    "scrolled": true
   },
   "outputs": [
    {
     "data": {
      "text/html": [
       "<table>\n",
       "<thead><tr><th></th><th scope=col>FY17</th><th scope=col>FY18</th><th scope=col>FY19</th></tr></thead>\n",
       "<tbody>\n",
       "\t<tr><th scope=row>revenue</th><td> 221766</td><td> 200444</td><td> 239259</td></tr>\n",
       "\t<tr><th scope=row>invest_income</th><td>    133</td><td>    463</td><td>   1278</td></tr>\n",
       "\t<tr><th scope=row>other</th><td> -14960</td><td>     87</td><td>   -556</td></tr>\n",
       "\t<tr><th scope=row>vessel_expenses</th><td>-241636</td><td>-206484</td><td>-238951</td></tr>\n",
       "\t<tr><th scope=row>admin_expenses</th><td>  -7377</td><td>  -7092</td><td>  -7402</td></tr>\n",
       "\t<tr><th scope=row>impairment</th><td>-287542</td><td>   8407</td><td> -10361</td></tr>\n",
       "\t<tr><th scope=row>finance_costs</th><td> -26444</td><td> -23201</td><td> -19146</td></tr>\n",
       "\t<tr><th scope=row>income_tax</th><td>   1729</td><td>   -533</td><td>  -1494</td></tr>\n",
       "</tbody>\n",
       "</table>\n"
      ],
      "text/latex": [
       "\\begin{tabular}{r|lll}\n",
       "  & FY17 & FY18 & FY19\\\\\n",
       "\\hline\n",
       "\trevenue &  221766 &  200444 &  239259\\\\\n",
       "\tinvest\\_income &     133 &     463 &    1278\\\\\n",
       "\tother &  -14960 &      87 &    -556\\\\\n",
       "\tvessel\\_expenses & -241636 & -206484 & -238951\\\\\n",
       "\tadmin\\_expenses &   -7377 &   -7092 &   -7402\\\\\n",
       "\timpairment & -287542 &    8407 &  -10361\\\\\n",
       "\tfinance\\_costs &  -26444 &  -23201 &  -19146\\\\\n",
       "\tincome\\_tax &    1729 &    -533 &   -1494\\\\\n",
       "\\end{tabular}\n"
      ],
      "text/markdown": [
       "\n",
       "| <!--/--> | FY17 | FY18 | FY19 |\n",
       "|---|---|---|---|\n",
       "| revenue |  221766 |  200444 |  239259 |\n",
       "| invest_income |     133 |     463 |    1278 |\n",
       "| other |  -14960 |      87 |    -556 |\n",
       "| vessel_expenses | -241636 | -206484 | -238951 |\n",
       "| admin_expenses |   -7377 |   -7092 |   -7402 |\n",
       "| impairment | -287542 |    8407 |  -10361 |\n",
       "| finance_costs |  -26444 |  -23201 |  -19146 |\n",
       "| income_tax |    1729 |    -533 |   -1494 |\n",
       "\n"
      ],
      "text/plain": [
       "                FY17    FY18    FY19   \n",
       "revenue          221766  200444  239259\n",
       "invest_income       133     463    1278\n",
       "other            -14960      87    -556\n",
       "vessel_expenses -241636 -206484 -238951\n",
       "admin_expenses    -7377   -7092   -7402\n",
       "impairment      -287542    8407  -10361\n",
       "finance_costs    -26444  -23201  -19146\n",
       "income_tax         1729    -533   -1494"
      ]
     },
     "metadata": {},
     "output_type": "display_data"
    }
   ],
   "source": [
    "# Read data from CSV file\n",
    "financials <- read.csv(\"financials.csv\", row.names = 1, header = TRUE)\n",
    "financials"
   ]
  },
  {
   "cell_type": "markdown",
   "metadata": {},
   "source": [
    "Now that the data has been imported, we can calculate the total profit or loss for each financial year (`profit_loss_total`).\n",
    "\n",
    "The weighted average number of ordinary shares used in the calculation of earnings per share (`ordinary_shares`) has been used to calculate the earnings per share (`earnings_per_share`). The earnings per share figures calculated match those in the company's annual reports.\n",
    "\n",
    "\n",
    "The same calculations have also been repeated in Excel: https://github.com/lei-per/MMA/blob/master/financials.xlsx\n",
    "\n",
    "The results show that the earnings per share are negative in each year. This makes sense as the company has reported a net loss each year.\n"
   ]
  },
  {
   "cell_type": "code",
   "execution_count": 2,
   "metadata": {
    "scrolled": true
   },
   "outputs": [
    {
     "data": {
      "text/html": [
       "<table>\n",
       "<thead><tr><th></th><th scope=col>profit_loss_total</th><th scope=col>ordinary_shares</th><th scope=col>earnings_per_share</th></tr></thead>\n",
       "<tbody>\n",
       "\t<tr><th scope=row>FY17</th><td>-354331</td><td>402771 </td><td>-87.973</td></tr>\n",
       "\t<tr><th scope=row>FY18</th><td> -27909</td><td>678468 </td><td> -4.114</td></tr>\n",
       "\t<tr><th scope=row>FY19</th><td> -37373</td><td>858077 </td><td> -4.355</td></tr>\n",
       "</tbody>\n",
       "</table>\n"
      ],
      "text/latex": [
       "\\begin{tabular}{r|lll}\n",
       "  & profit\\_loss\\_total & ordinary\\_shares & earnings\\_per\\_share\\\\\n",
       "\\hline\n",
       "\tFY17 & -354331 & 402771  & -87.973\\\\\n",
       "\tFY18 &  -27909 & 678468  &  -4.114\\\\\n",
       "\tFY19 &  -37373 & 858077  &  -4.355\\\\\n",
       "\\end{tabular}\n"
      ],
      "text/markdown": [
       "\n",
       "| <!--/--> | profit_loss_total | ordinary_shares | earnings_per_share |\n",
       "|---|---|---|---|\n",
       "| FY17 | -354331 | 402771  | -87.973 |\n",
       "| FY18 |  -27909 | 678468  |  -4.114 |\n",
       "| FY19 |  -37373 | 858077  |  -4.355 |\n",
       "\n"
      ],
      "text/plain": [
       "     profit_loss_total ordinary_shares earnings_per_share\n",
       "FY17 -354331           402771          -87.973           \n",
       "FY18  -27909           678468           -4.114           \n",
       "FY19  -37373           858077           -4.355           "
      ]
     },
     "metadata": {},
     "output_type": "display_data"
    }
   ],
   "source": [
    "# Calculate profit or loss totals for each financial year\n",
    "profit_loss_total <- colSums(financials[1:8, ])\n",
    "\n",
    "# Set the number of ordinary shares used in the calculation of earnings per share\n",
    "ordinary_shares <- c(402771, 678468, 858077)\n",
    "names(ordinary_shares) <- c(\"FY17\", \"FY18\", \"FY19\")\n",
    "\n",
    "# Calculate earnings per share (in cents per share)\n",
    "earnings_per_share <- round(profit_loss_total / ordinary_shares * 100, 3)\n",
    "\n",
    "# Summarise results of the analysis in a dataframe\n",
    "analysis <- data.frame(profit_loss_total, ordinary_shares, earnings_per_share)\n",
    "analysis"
   ]
  },
  {
   "cell_type": "markdown",
   "metadata": {},
   "source": [
    "***\n",
    "### Section 2\n",
    "> *Add a single financial year forecast and assume last years revenue growth continues and all other income and expenses grow by 5%. Show your forecast profit for MRM on this basis.*"
   ]
  },
  {
   "cell_type": "markdown",
   "metadata": {},
   "source": [
    "The script below forecasts the total profit or loss for the 2020 financial year (`profit_loss_total_FY20_forecast`).\n",
    "\n",
    "Based on the assumptions above, a loss of \\\\$4.87m is forecast for MRM in the 2020 financial year."
   ]
  },
  {
   "cell_type": "code",
   "execution_count": 3,
   "metadata": {},
   "outputs": [
    {
     "data": {
      "text/html": [
       "<table>\n",
       "<thead><tr><th></th><th scope=col>FY20_forecast</th></tr></thead>\n",
       "<tbody>\n",
       "\t<tr><th scope=row>revenue</th><td> 285590</td></tr>\n",
       "\t<tr><th scope=row>invest_income</th><td>   1342</td></tr>\n",
       "\t<tr><th scope=row>other</th><td>   -584</td></tr>\n",
       "\t<tr><th scope=row>vessel_expenses</th><td>-250899</td></tr>\n",
       "\t<tr><th scope=row>admin_expenses</th><td>  -7772</td></tr>\n",
       "\t<tr><th scope=row>impairment</th><td> -10879</td></tr>\n",
       "\t<tr><th scope=row>finance_costs</th><td> -20103</td></tr>\n",
       "\t<tr><th scope=row>income_tax</th><td>  -1569</td></tr>\n",
       "</tbody>\n",
       "</table>\n"
      ],
      "text/latex": [
       "\\begin{tabular}{r|l}\n",
       "  & FY20\\_forecast\\\\\n",
       "\\hline\n",
       "\trevenue &  285590\\\\\n",
       "\tinvest\\_income &    1342\\\\\n",
       "\tother &    -584\\\\\n",
       "\tvessel\\_expenses & -250899\\\\\n",
       "\tadmin\\_expenses &   -7772\\\\\n",
       "\timpairment &  -10879\\\\\n",
       "\tfinance\\_costs &  -20103\\\\\n",
       "\tincome\\_tax &   -1569\\\\\n",
       "\\end{tabular}\n"
      ],
      "text/markdown": [
       "\n",
       "| <!--/--> | FY20_forecast |\n",
       "|---|---|\n",
       "| revenue |  285590 |\n",
       "| invest_income |    1342 |\n",
       "| other |    -584 |\n",
       "| vessel_expenses | -250899 |\n",
       "| admin_expenses |   -7772 |\n",
       "| impairment |  -10879 |\n",
       "| finance_costs |  -20103 |\n",
       "| income_tax |   -1569 |\n",
       "\n"
      ],
      "text/plain": [
       "                FY20_forecast\n",
       "revenue          285590      \n",
       "invest_income      1342      \n",
       "other              -584      \n",
       "vessel_expenses -250899      \n",
       "admin_expenses    -7772      \n",
       "impairment       -10879      \n",
       "finance_costs    -20103      \n",
       "income_tax        -1569      "
      ]
     },
     "metadata": {},
     "output_type": "display_data"
    },
    {
     "data": {
      "text/html": [
       "<strong>profit_loss_total_FY20_forecast:</strong> -4874"
      ],
      "text/latex": [
       "\\textbf{profit\\textbackslash{}\\_loss\\textbackslash{}\\_total\\textbackslash{}\\_FY20\\textbackslash{}\\_forecast:} -4874"
      ],
      "text/markdown": [
       "**profit_loss_total_FY20_forecast:** -4874"
      ],
      "text/plain": [
       "profit_loss_total_FY20_forecast \n",
       "                          -4874 "
      ]
     },
     "metadata": {},
     "output_type": "display_data"
    }
   ],
   "source": [
    "# Calculate a forecast for the 2020 financial year by assuming all income and expenses grow by 5%\n",
    "FY20_forecast <- round(1.05 * financials[1:8, \"FY19\"])\n",
    "names(FY20_forecast) <- rownames(financials[1:8, ])\n",
    "\n",
    "# Update the revenue forecast using last years revenue growth rate\n",
    "growth_rate <- financials[\"revenue\", \"FY19\"] / financials[\"revenue\", \"FY18\"]\n",
    "FY20_forecast[\"revenue\"] <- round(growth_rate * financials[\"revenue\", \"FY19\"])\n",
    "data.frame(FY20_forecast)\n",
    "\n",
    "# Calculate profit or loss total for the 2020 financial year forecast\n",
    "profit_loss_total_FY20_forecast <- sum(FY20_forecast)\n",
    "names(profit_loss_total_FY20_forecast) <- \"profit_loss_total_FY20_forecast\"\n",
    "profit_loss_total_FY20_forecast"
   ]
  },
  {
   "cell_type": "markdown",
   "metadata": {},
   "source": [
    "***\n",
    "### Section 3\n",
    "> *Find historical share prices anywhere online for MRM and work out what approximate Price-to-Earnings ratio (PE) the company was trading at, 1 month after it reported for each of the last 2 years. Do you think this PE is a good way of valuing this company? (If not, can you suggest a different approach).*"
   ]
  },
  {
   "cell_type": "markdown",
   "metadata": {},
   "source": [
    "The `quantmod` package in R has been used to retrieve stock data from yahoo finance."
   ]
  },
  {
   "cell_type": "code",
   "execution_count": 6,
   "metadata": {
    "scrolled": true
   },
   "outputs": [],
   "source": [
    "# Load the quantmod package\n",
    "library(\"quantmod\")"
   ]
  },
  {
   "cell_type": "code",
   "execution_count": 7,
   "metadata": {
    "scrolled": true
   },
   "outputs": [
    {
     "data": {
      "text/html": [
       "<table>\n",
       "<thead><tr><th></th><th scope=col>MRM.AX.Open</th><th scope=col>MRM.AX.High</th><th scope=col>MRM.AX.Low</th><th scope=col>MRM.AX.Close</th><th scope=col>MRM.AX.Volume</th><th scope=col>MRM.AX.Adjusted</th></tr></thead>\n",
       "<tbody>\n",
       "\t<tr><th scope=row>2007-01-02</th><td>0.86992 </td><td>0.87436 </td><td>0.84329 </td><td>0.86992 </td><td> 79427  </td><td>0.616371</td></tr>\n",
       "\t<tr><th scope=row>2007-01-03</th><td>0.87436 </td><td>0.87436 </td><td>0.83442 </td><td>0.86992 </td><td>133652  </td><td>0.616371</td></tr>\n",
       "\t<tr><th scope=row>2007-01-04</th><td>0.86105 </td><td>0.87436 </td><td>0.84329 </td><td>0.86992 </td><td> 93353  </td><td>0.616371</td></tr>\n",
       "</tbody>\n",
       "</table>\n"
      ],
      "text/latex": [
       "\\begin{tabular}{r|llllll}\n",
       "  & MRM.AX.Open & MRM.AX.High & MRM.AX.Low & MRM.AX.Close & MRM.AX.Volume & MRM.AX.Adjusted\\\\\n",
       "\\hline\n",
       "\t2007-01-02 & 0.86992  & 0.87436  & 0.84329  & 0.86992  &  79427   & 0.616371\\\\\n",
       "\t2007-01-03 & 0.87436  & 0.87436  & 0.83442  & 0.86992  & 133652   & 0.616371\\\\\n",
       "\t2007-01-04 & 0.86105  & 0.87436  & 0.84329  & 0.86992  &  93353   & 0.616371\\\\\n",
       "\\end{tabular}\n"
      ],
      "text/markdown": [
       "\n",
       "| <!--/--> | MRM.AX.Open | MRM.AX.High | MRM.AX.Low | MRM.AX.Close | MRM.AX.Volume | MRM.AX.Adjusted |\n",
       "|---|---|---|---|---|---|---|\n",
       "| 2007-01-02 | 0.86992  | 0.87436  | 0.84329  | 0.86992  |  79427   | 0.616371 |\n",
       "| 2007-01-03 | 0.87436  | 0.87436  | 0.83442  | 0.86992  | 133652   | 0.616371 |\n",
       "| 2007-01-04 | 0.86105  | 0.87436  | 0.84329  | 0.86992  |  93353   | 0.616371 |\n",
       "\n"
      ],
      "text/plain": [
       "           MRM.AX.Open MRM.AX.High MRM.AX.Low MRM.AX.Close MRM.AX.Volume\n",
       "2007-01-02 0.86992     0.87436     0.84329    0.86992       79427       \n",
       "2007-01-03 0.87436     0.87436     0.83442    0.86992      133652       \n",
       "2007-01-04 0.86105     0.87436     0.84329    0.86992       93353       \n",
       "           MRM.AX.Adjusted\n",
       "2007-01-02 0.616371       \n",
       "2007-01-03 0.616371       \n",
       "2007-01-04 0.616371       "
      ]
     },
     "metadata": {},
     "output_type": "display_data"
    },
    {
     "data": {
      "text/html": [
       "<table>\n",
       "<thead><tr><th></th><th scope=col>MRM.AX.Open</th><th scope=col>MRM.AX.High</th><th scope=col>MRM.AX.Low</th><th scope=col>MRM.AX.Close</th><th scope=col>MRM.AX.Volume</th><th scope=col>MRM.AX.Adjusted</th></tr></thead>\n",
       "<tbody>\n",
       "\t<tr><th scope=row>2019-12-12</th><td>0.170 </td><td>0.17  </td><td>0.160 </td><td>0.17  </td><td>589704</td><td>0.17  </td></tr>\n",
       "\t<tr><th scope=row>2019-12-13</th><td>0.165 </td><td>0.17  </td><td>0.165 </td><td>0.17  </td><td>251122</td><td>0.17  </td></tr>\n",
       "\t<tr><th scope=row>2019-12-16</th><td>0.170 </td><td>0.17  </td><td>0.170 </td><td>0.17  </td><td>199546</td><td>0.17  </td></tr>\n",
       "</tbody>\n",
       "</table>\n"
      ],
      "text/latex": [
       "\\begin{tabular}{r|llllll}\n",
       "  & MRM.AX.Open & MRM.AX.High & MRM.AX.Low & MRM.AX.Close & MRM.AX.Volume & MRM.AX.Adjusted\\\\\n",
       "\\hline\n",
       "\t2019-12-12 & 0.170  & 0.17   & 0.160  & 0.17   & 589704 & 0.17  \\\\\n",
       "\t2019-12-13 & 0.165  & 0.17   & 0.165  & 0.17   & 251122 & 0.17  \\\\\n",
       "\t2019-12-16 & 0.170  & 0.17   & 0.170  & 0.17   & 199546 & 0.17  \\\\\n",
       "\\end{tabular}\n"
      ],
      "text/markdown": [
       "\n",
       "| <!--/--> | MRM.AX.Open | MRM.AX.High | MRM.AX.Low | MRM.AX.Close | MRM.AX.Volume | MRM.AX.Adjusted |\n",
       "|---|---|---|---|---|---|---|\n",
       "| 2019-12-12 | 0.170  | 0.17   | 0.160  | 0.17   | 589704 | 0.17   |\n",
       "| 2019-12-13 | 0.165  | 0.17   | 0.165  | 0.17   | 251122 | 0.17   |\n",
       "| 2019-12-16 | 0.170  | 0.17   | 0.170  | 0.17   | 199546 | 0.17   |\n",
       "\n"
      ],
      "text/plain": [
       "           MRM.AX.Open MRM.AX.High MRM.AX.Low MRM.AX.Close MRM.AX.Volume\n",
       "2019-12-12 0.170       0.17        0.160      0.17         589704       \n",
       "2019-12-13 0.165       0.17        0.165      0.17         251122       \n",
       "2019-12-16 0.170       0.17        0.170      0.17         199546       \n",
       "           MRM.AX.Adjusted\n",
       "2019-12-12 0.17           \n",
       "2019-12-13 0.17           \n",
       "2019-12-16 0.17           "
      ]
     },
     "metadata": {},
     "output_type": "display_data"
    }
   ],
   "source": [
    "# Use getSymbols from the quantmod package to get stock data from yahoo finance\n",
    "MRM.AX <- getSymbols(\"MRM.AX\", src = \"yahoo\", auto.assign = FALSE)\n",
    "\n",
    "# Display the first and last three rows of the stock data\n",
    "data.frame(head(MRM.AX, 3))\n",
    "data.frame(tail(MRM.AX, 3))"
   ]
  },
  {
   "cell_type": "markdown",
   "metadata": {},
   "source": [
    "Preliminary financial reports were released on 28th August 2017, 27th August 2018 and 26th August 2019. Share prices one month after each report have been used to calculate the price-earnings ratio (`pe_ratio`). "
   ]
  },
  {
   "cell_type": "code",
   "execution_count": 8,
   "metadata": {
    "scrolled": false
   },
   "outputs": [
    {
     "data": {
      "text/html": [
       "<table>\n",
       "<thead><tr><th></th><th scope=col>profit_loss_total</th><th scope=col>ordinary_shares</th><th scope=col>earnings_per_share</th><th scope=col>price_per_share</th><th scope=col>pe_ratio</th></tr></thead>\n",
       "<tbody>\n",
       "\t<tr><th scope=row>FY17</th><td>-354331</td><td>402771 </td><td>-87.973</td><td>17.585 </td><td>-0.200 </td></tr>\n",
       "\t<tr><th scope=row>FY18</th><td> -27909</td><td>678468 </td><td> -4.114</td><td>24.000 </td><td>-5.834 </td></tr>\n",
       "\t<tr><th scope=row>FY19</th><td> -37373</td><td>858077 </td><td> -4.355</td><td>19.000 </td><td>-4.363 </td></tr>\n",
       "</tbody>\n",
       "</table>\n"
      ],
      "text/latex": [
       "\\begin{tabular}{r|lllll}\n",
       "  & profit\\_loss\\_total & ordinary\\_shares & earnings\\_per\\_share & price\\_per\\_share & pe\\_ratio\\\\\n",
       "\\hline\n",
       "\tFY17 & -354331 & 402771  & -87.973 & 17.585  & -0.200 \\\\\n",
       "\tFY18 &  -27909 & 678468  &  -4.114 & 24.000  & -5.834 \\\\\n",
       "\tFY19 &  -37373 & 858077  &  -4.355 & 19.000  & -4.363 \\\\\n",
       "\\end{tabular}\n"
      ],
      "text/markdown": [
       "\n",
       "| <!--/--> | profit_loss_total | ordinary_shares | earnings_per_share | price_per_share | pe_ratio |\n",
       "|---|---|---|---|---|---|\n",
       "| FY17 | -354331 | 402771  | -87.973 | 17.585  | -0.200  |\n",
       "| FY18 |  -27909 | 678468  |  -4.114 | 24.000  | -5.834  |\n",
       "| FY19 |  -37373 | 858077  |  -4.355 | 19.000  | -4.363  |\n",
       "\n"
      ],
      "text/plain": [
       "     profit_loss_total ordinary_shares earnings_per_share price_per_share\n",
       "FY17 -354331           402771          -87.973            17.585         \n",
       "FY18  -27909           678468           -4.114            24.000         \n",
       "FY19  -37373           858077           -4.355            19.000         \n",
       "     pe_ratio\n",
       "FY17 -0.200  \n",
       "FY18 -5.834  \n",
       "FY19 -4.363  "
      ]
     },
     "metadata": {},
     "output_type": "display_data"
    }
   ],
   "source": [
    "# Subset stock data to select prices (in cents) one month after each report was released\n",
    "price_per_share <- as.vector(MRM.AX[c(\"2017-09-28\", \"2018-09-27\", \"2019-09-26\"), \"MRM.AX.Adjusted\"] * 100)\n",
    "\n",
    "# Calculate PE ratios\n",
    "pe_ratio <- round(price_per_share / earnings_per_share, 3)\n",
    "\n",
    "# Add new columns to the analysis dataframe with the results\n",
    "analysis$price_per_share <- price_per_share\n",
    "analysis$pe_ratio <- pe_ratio\n",
    "analysis"
   ]
  },
  {
   "cell_type": "markdown",
   "metadata": {},
   "source": [
    "The results show the PE ratio is negative each year, at a multiple of -5.003 for FY17, then increasing substantially to -0.171 for FY18 and then decreasing slightly to -0.229 for FY19. In simplified terms, PE ratio can be thought of as the cost at which investors may obtain a given rate of corporate earnings. For this reason, PE ratio is commonly used to determine whether a company is overvalued (high PE) or undervalued (low PE) at its current share price. However, this relationship no longer holds when PE ratio is negative. For example, when the share price increased from 24 cents in FY18 to 19 cents in FY19, this decrease in the share price resulted in an *increase* to the PE ratio. For this reason, when the PE ratio is negative it is no longer a useful measure of relative value.\n",
    "\n",
    "One alternative would be to calculate a forward PE ratio using forecast earnings. However, the forward PE ratio would not offer any advantage in this case, as the forecast for FY20 earnings is also negative (forecasted loss of $4.87m).\n",
    "\n",
    "Another alternative is to use the Enterprise Value (EV) / EBITDA ratio. The EV/EBITDA ratio may be thought of as the cost to acquire the entire business, as a multiple of its operating profit. Similar to the PE ratio, this ratio gives a measure of relative value and a low EV/EBITDA ratio may indicate that a company is undervalued.  The EV/EBITDA ratio is often used as it allows for a comparison of company value independent of capital structure.\n",
    "\n",
    "To calculate EV/EBITDA requires additional information from the financial reports to be loaded into R. This has been done in the Appendix section."
   ]
  },
  {
   "cell_type": "markdown",
   "metadata": {},
   "source": [
    "***\n",
    "### Section 4\n",
    "> *Create a working/tested R program to load monthly share prices for MMA offshore for the 2018 calendar year. Source the prices online and get them into R in whatever way you this is most useful.*"
   ]
  },
  {
   "cell_type": "markdown",
   "metadata": {},
   "source": [
    "Stock data has already been loaded for MMA Offshore using the `quantmod` package. The `timeDate` package has been used below to select prices at the end of each month for the 2018 calendar year.  "
   ]
  },
  {
   "cell_type": "code",
   "execution_count": 9,
   "metadata": {
    "scrolled": true
   },
   "outputs": [],
   "source": [
    "# Load the timeDate package\n",
    "library(\"timeDate\")"
   ]
  },
  {
   "cell_type": "code",
   "execution_count": 10,
   "metadata": {},
   "outputs": [
    {
     "data": {
      "text/html": [
       "<table>\n",
       "<thead><tr><th></th><th scope=col>price_monthly</th></tr></thead>\n",
       "<tbody>\n",
       "\t<tr><th scope=row>2018-01-31</th><td>28.5</td></tr>\n",
       "\t<tr><th scope=row>2018-02-28</th><td>27.0</td></tr>\n",
       "\t<tr><th scope=row>2018-03-29</th><td>23.0</td></tr>\n",
       "\t<tr><th scope=row>2018-04-30</th><td>24.0</td></tr>\n",
       "\t<tr><th scope=row>2018-05-31</th><td>22.5</td></tr>\n",
       "\t<tr><th scope=row>2018-06-29</th><td>23.0</td></tr>\n",
       "\t<tr><th scope=row>2018-07-31</th><td>24.5</td></tr>\n",
       "\t<tr><th scope=row>2018-08-31</th><td>27.0</td></tr>\n",
       "\t<tr><th scope=row>2018-09-28</th><td>22.0</td></tr>\n",
       "\t<tr><th scope=row>2018-10-31</th><td>25.0</td></tr>\n",
       "\t<tr><th scope=row>2018-11-30</th><td>23.0</td></tr>\n",
       "\t<tr><th scope=row>2018-12-31</th><td>20.0</td></tr>\n",
       "</tbody>\n",
       "</table>\n"
      ],
      "text/latex": [
       "\\begin{tabular}{r|l}\n",
       "  & price\\_monthly\\\\\n",
       "\\hline\n",
       "\t2018-01-31 & 28.5\\\\\n",
       "\t2018-02-28 & 27.0\\\\\n",
       "\t2018-03-29 & 23.0\\\\\n",
       "\t2018-04-30 & 24.0\\\\\n",
       "\t2018-05-31 & 22.5\\\\\n",
       "\t2018-06-29 & 23.0\\\\\n",
       "\t2018-07-31 & 24.5\\\\\n",
       "\t2018-08-31 & 27.0\\\\\n",
       "\t2018-09-28 & 22.0\\\\\n",
       "\t2018-10-31 & 25.0\\\\\n",
       "\t2018-11-30 & 23.0\\\\\n",
       "\t2018-12-31 & 20.0\\\\\n",
       "\\end{tabular}\n"
      ],
      "text/markdown": [
       "\n",
       "| <!--/--> | price_monthly |\n",
       "|---|---|\n",
       "| 2018-01-31 | 28.5 |\n",
       "| 2018-02-28 | 27.0 |\n",
       "| 2018-03-29 | 23.0 |\n",
       "| 2018-04-30 | 24.0 |\n",
       "| 2018-05-31 | 22.5 |\n",
       "| 2018-06-29 | 23.0 |\n",
       "| 2018-07-31 | 24.5 |\n",
       "| 2018-08-31 | 27.0 |\n",
       "| 2018-09-28 | 22.0 |\n",
       "| 2018-10-31 | 25.0 |\n",
       "| 2018-11-30 | 23.0 |\n",
       "| 2018-12-31 | 20.0 |\n",
       "\n"
      ],
      "text/plain": [
       "           price_monthly\n",
       "2018-01-31 28.5         \n",
       "2018-02-28 27.0         \n",
       "2018-03-29 23.0         \n",
       "2018-04-30 24.0         \n",
       "2018-05-31 22.5         \n",
       "2018-06-29 23.0         \n",
       "2018-07-31 24.5         \n",
       "2018-08-31 27.0         \n",
       "2018-09-28 22.0         \n",
       "2018-10-31 25.0         \n",
       "2018-11-30 23.0         \n",
       "2018-12-31 20.0         "
      ]
     },
     "metadata": {},
     "output_type": "display_data"
    }
   ],
   "source": [
    "# Subset stock data to select prices for the 2018 calendar year (in cents)\n",
    "days_CY18 <- seq(as.Date(\"2018-01-01\"), as.Date(\"2018-12-31\"), by=\"days\")\n",
    "prices_CY18 <- MRM.AX[days_CY18, \"MRM.AX.Adjusted\"] * 100\n",
    "\n",
    "# Use apply.monthly from the timeDate package to select prices at the end of each month\n",
    "prices_CY18_monthly <- apply.monthly(prices_CY18, head, 1)\n",
    "names(prices_CY18_monthly) <- \"price_monthly\"\n",
    "data.frame(prices_CY18_monthly)"
   ]
  },
  {
   "cell_type": "markdown",
   "metadata": {},
   "source": [
    "***\n",
    "### Section 5\n",
    "> *Load the FY2018 eps into R and calculate a PE for each month of Calendar year 2018. Share any thoughts you have about why it might change throughout the year.*"
   ]
  },
  {
   "cell_type": "markdown",
   "metadata": {},
   "source": [
    "The script below calculates the PE ratio for each month of the 2018 calendar year using the FY18 earnings per share. "
   ]
  },
  {
   "cell_type": "code",
   "execution_count": 11,
   "metadata": {
    "scrolled": false
   },
   "outputs": [
    {
     "data": {
      "text/html": [
       "<table>\n",
       "<thead><tr><th></th><th scope=col>price_monthly</th><th scope=col>pe_ratio_monthly</th></tr></thead>\n",
       "<tbody>\n",
       "\t<tr><th scope=row>2018-01-31</th><td>28.5  </td><td>-6.928</td></tr>\n",
       "\t<tr><th scope=row>2018-02-28</th><td>27.0  </td><td>-6.563</td></tr>\n",
       "\t<tr><th scope=row>2018-03-29</th><td>23.0  </td><td>-5.591</td></tr>\n",
       "\t<tr><th scope=row>2018-04-30</th><td>24.0  </td><td>-5.834</td></tr>\n",
       "\t<tr><th scope=row>2018-05-31</th><td>22.5  </td><td>-5.469</td></tr>\n",
       "\t<tr><th scope=row>2018-06-29</th><td>23.0  </td><td>-5.591</td></tr>\n",
       "\t<tr><th scope=row>2018-07-31</th><td>24.5  </td><td>-5.955</td></tr>\n",
       "\t<tr><th scope=row>2018-08-31</th><td>27.0  </td><td>-6.563</td></tr>\n",
       "\t<tr><th scope=row>2018-09-28</th><td>22.0  </td><td>-5.348</td></tr>\n",
       "\t<tr><th scope=row>2018-10-31</th><td>25.0  </td><td>-6.077</td></tr>\n",
       "\t<tr><th scope=row>2018-11-30</th><td>23.0  </td><td>-5.591</td></tr>\n",
       "\t<tr><th scope=row>2018-12-31</th><td>20.0  </td><td>-4.861</td></tr>\n",
       "</tbody>\n",
       "</table>\n"
      ],
      "text/latex": [
       "\\begin{tabular}{r|ll}\n",
       "  & price\\_monthly & pe\\_ratio\\_monthly\\\\\n",
       "\\hline\n",
       "\t2018-01-31 & 28.5   & -6.928\\\\\n",
       "\t2018-02-28 & 27.0   & -6.563\\\\\n",
       "\t2018-03-29 & 23.0   & -5.591\\\\\n",
       "\t2018-04-30 & 24.0   & -5.834\\\\\n",
       "\t2018-05-31 & 22.5   & -5.469\\\\\n",
       "\t2018-06-29 & 23.0   & -5.591\\\\\n",
       "\t2018-07-31 & 24.5   & -5.955\\\\\n",
       "\t2018-08-31 & 27.0   & -6.563\\\\\n",
       "\t2018-09-28 & 22.0   & -5.348\\\\\n",
       "\t2018-10-31 & 25.0   & -6.077\\\\\n",
       "\t2018-11-30 & 23.0   & -5.591\\\\\n",
       "\t2018-12-31 & 20.0   & -4.861\\\\\n",
       "\\end{tabular}\n"
      ],
      "text/markdown": [
       "\n",
       "| <!--/--> | price_monthly | pe_ratio_monthly |\n",
       "|---|---|---|\n",
       "| 2018-01-31 | 28.5   | -6.928 |\n",
       "| 2018-02-28 | 27.0   | -6.563 |\n",
       "| 2018-03-29 | 23.0   | -5.591 |\n",
       "| 2018-04-30 | 24.0   | -5.834 |\n",
       "| 2018-05-31 | 22.5   | -5.469 |\n",
       "| 2018-06-29 | 23.0   | -5.591 |\n",
       "| 2018-07-31 | 24.5   | -5.955 |\n",
       "| 2018-08-31 | 27.0   | -6.563 |\n",
       "| 2018-09-28 | 22.0   | -5.348 |\n",
       "| 2018-10-31 | 25.0   | -6.077 |\n",
       "| 2018-11-30 | 23.0   | -5.591 |\n",
       "| 2018-12-31 | 20.0   | -4.861 |\n",
       "\n"
      ],
      "text/plain": [
       "           price_monthly pe_ratio_monthly\n",
       "2018-01-31 28.5          -6.928          \n",
       "2018-02-28 27.0          -6.563          \n",
       "2018-03-29 23.0          -5.591          \n",
       "2018-04-30 24.0          -5.834          \n",
       "2018-05-31 22.5          -5.469          \n",
       "2018-06-29 23.0          -5.591          \n",
       "2018-07-31 24.5          -5.955          \n",
       "2018-08-31 27.0          -6.563          \n",
       "2018-09-28 22.0          -5.348          \n",
       "2018-10-31 25.0          -6.077          \n",
       "2018-11-30 23.0          -5.591          \n",
       "2018-12-31 20.0          -4.861          "
      ]
     },
     "metadata": {},
     "output_type": "display_data"
    }
   ],
   "source": [
    "# Calculate monthly PE ratio\n",
    "pe_ratio_monthly <- round(prices_CY18_monthly / analysis[\"FY18\", \"earnings_per_share\"], 3)\n",
    "names(pe_ratio_monthly) <- \"pe_ratio_monthly\"\n",
    "\n",
    "# Summarise results in the analysis_monthly dataframe\n",
    "analysis_monthly <- data.frame(prices_CY18_monthly, pe_ratio_monthly)\n",
    "analysis_monthly"
   ]
  },
  {
   "cell_type": "markdown",
   "metadata": {},
   "source": [
    "The results show that as the monthly share price has decreased from 28.5 cents down to 20.0 cents throughout the year, the PE ratio has increased from -6.944 to -4.854 over the same period. This is due the assumption that earnings per share remains constant. Typically, as the share price decreases so does the 'multiple' of the PE ratio, indicating that the company is trading at a lower value relative to its earnings. However, as the PE ratio is negative it actually represents the price as a 'multiple' of the company's losses, which is less meaningful for valuation. \n",
    "\n",
    "The EV/EBITDA ratio has been calculated for each month in the Appendix section as a comparison."
   ]
  },
  {
   "cell_type": "markdown",
   "metadata": {},
   "source": [
    "***\n",
    "### Section 6\n",
    "> **`a.`** *Doing some research online, what reasons (in order of importance) would you give to explain Forager’s interest in MRM?*"
   ]
  },
  {
   "cell_type": "markdown",
   "metadata": {},
   "source": [
    "The two key reasons for Forager's interest in MMA Offshore as an investment are:\n",
    "\n",
    "1. Forager's focus on value investing an investing in companies trading at a discount to intrinsic value.\n",
    "\n",
    "    At the time of Forager's initial investment in early 2015, MMA had an enterprise value of \\\\$700m and \\\\$1.3bn of tangible assets. As a value fund manager Forager takes the view the although security prices vary enormously over the course of a year but a business’s revenue, profit and cash flow rarely change as much as its security price. Forager's investment strategy is to identify and invest in securities where the estimated intrinsic value is substantially higher than the security price\n",
    " \n",
    "  \n",
    "2. Forager's contrarian view on a long term recovery in oil prices.\n",
    "\n",
    "    Forager's analysis of the macro economy has identified that the world is facing the prospect of a significant shortage of oil over the next decade due to a lack of investment as oil prices have declined. Forager has identified that in the Australian market it is easier to gain exposure to a recovery in the oil price through oil services companies such as MMA Offshore.\n",
    "\n",
    "Sources:  \n",
    "https://foragerfunds.com/wp-content/uploads/2019/04/PDS-FASF_NOV16_FINAL.pdf  \n",
    "https://foragerfunds.com/news/the-looming-oil-shortage/  \n",
    "https://foragerfunds.com/news/investing-oil-price-recovery/\n"
   ]
  },
  {
   "cell_type": "markdown",
   "metadata": {},
   "source": [
    "> **`b.`** *Can you highlight any specific risks that MRM poses for Forager as an investment?*"
   ]
  },
  {
   "cell_type": "markdown",
   "metadata": {},
   "source": [
    "Forager's investment in MMA Offshore presents a number of risks that Forager will look to monitor closely:\n",
    "\n",
    " 1. Oil price volatility.\n",
    "     \n",
    "    Despite a recovery in oil prices, oil services companies may benefit more from oil price stability. Price stability would lead to confidence and greater spending on longer term projects likely to benefit services providers. This poses a risk for Forager, as although they may be correct in their forecast of an oil price recovery their investments may not benefit until oil prices maintain stability.  \n",
    "     \n",
    "     \n",
    " 2. Debt burden.\n",
    "     \n",
    "    Forager will look to monitor MMA Offshore's levels of debt very closely. If the company maintains high levels of debt, this will diminish the company's ability to wait for an oil price recovery and effectively capitalise on such a recovery.\n",
    "     \n",
    "     \n",
    " 3. Liquidity risk.\n",
    "     \n",
    "    Forager Funds is a substantial shareholder, owning 5.26\\% of issued capital in MMA Offshore. If Forager decides to dispose of the holding there may be substantial slippage costs and it may be difficult for Forager to dispose of the holding in a discreet or timely manner due to lack of liquidity.\n",
    "     \n",
    "     \n",
    " 4. Concentration risk.\n",
    "     \n",
    "    Forager's Australian Shares Fund had a 6.0% allocation of its portfolio to MMA Offshore, as of the September 2019 quarterly report.\n",
    "          \n",
    "    \n",
    " 5. Foreign currency exposure.\n",
    "    \n",
    "    MMA Offshore is primarily exposed to US dollar exchange rate. The sensitivity analysis in the 2019 annual report shows that if the  Australian dollar strengthens 10\\% against the US dollar, this would result in a \\\\$0.96m loss in revenue.\n",
    "     \n",
    "     \n",
    "   \n",
    "Sources:  \n",
    "https://foragerfunds.com/news/on-the-oil-rollercoaster/  \n",
    "https://www.mmaoffshore.com/theme/mmaoffshorecomau/assets/public/File/asx/190920_-_2019_Annual_Report.pdf  \n",
    "https://foragerfunds.com/wp-content/uploads/2019/10/QR-ForagerFunds_SEP19.pdf"
   ]
  },
  {
   "cell_type": "markdown",
   "metadata": {},
   "source": [
    "***\n",
    "### Appendix"
   ]
  },
  {
   "cell_type": "markdown",
   "metadata": {},
   "source": [
    "The script below adds depreciation to the financials data to calculate EBITDA (Earnings Before Interest, Taxes, Depreciation and Amortization) for the past three financial years.\n",
    "\n",
    "`ebitda = profit_loss_total - finance_costs - income_tax - impairment + depreciation`\n",
    "\n",
    "It's worth noting that the EBITDA figures calculated differ from those reported in the company's annual reports. This may be due to a difference in accounting methods, as the figures calculated below match those reported by Morningstar."
   ]
  },
  {
   "cell_type": "code",
   "execution_count": 12,
   "metadata": {
    "scrolled": true
   },
   "outputs": [
    {
     "data": {
      "text/html": [
       "<table>\n",
       "<thead><tr><th></th><th scope=col>ebitda</th></tr></thead>\n",
       "<tbody>\n",
       "\t<tr><th scope=row>FY17</th><td> 3467</td></tr>\n",
       "\t<tr><th scope=row>FY18</th><td>19321</td></tr>\n",
       "\t<tr><th scope=row>FY19</th><td>28947</td></tr>\n",
       "</tbody>\n",
       "</table>\n"
      ],
      "text/latex": [
       "\\begin{tabular}{r|l}\n",
       "  & ebitda\\\\\n",
       "\\hline\n",
       "\tFY17 &  3467\\\\\n",
       "\tFY18 & 19321\\\\\n",
       "\tFY19 & 28947\\\\\n",
       "\\end{tabular}\n"
      ],
      "text/markdown": [
       "\n",
       "| <!--/--> | ebitda |\n",
       "|---|---|\n",
       "| FY17 |  3467 |\n",
       "| FY18 | 19321 |\n",
       "| FY19 | 28947 |\n",
       "\n"
      ],
      "text/plain": [
       "     ebitda\n",
       "FY17  3467 \n",
       "FY18 19321 \n",
       "FY19 28947 "
      ]
     },
     "metadata": {},
     "output_type": "display_data"
    }
   ],
   "source": [
    "# Add depreciation data to the financials data\n",
    "depreciation <- c(45541, 31903, 35319)\n",
    "financials[\"depreciation\",] <- depreciation\n",
    "\n",
    "# Calculate EBITDA \n",
    "ebitda <- colSums(financials[1:9, ]) - colSums(financials[6:8,])\n",
    "data.frame(ebitda)"
   ]
  },
  {
   "cell_type": "markdown",
   "metadata": {},
   "source": [
    "The script below adds cash equivalents and non current liabilities to the financials data to calculate Enterprise Value (EV).\n",
    "\n",
    "`enterprise_value = ordinary_shares * price_per_share + noncurrent_liabilities - cash_equivalents`  \n",
    "\n",
    "The EV/EBITDA ratio is then calculated for the past three financial years."
   ]
  },
  {
   "cell_type": "code",
   "execution_count": 13,
   "metadata": {},
   "outputs": [
    {
     "data": {
      "text/html": [
       "<table>\n",
       "<thead><tr><th></th><th scope=col>FY17</th><th scope=col>FY18</th><th scope=col>FY19</th></tr></thead>\n",
       "<tbody>\n",
       "\t<tr><th scope=row>revenue</th><td> 221766</td><td> 200444</td><td> 239259</td></tr>\n",
       "\t<tr><th scope=row>invest_income</th><td>    133</td><td>    463</td><td>   1278</td></tr>\n",
       "\t<tr><th scope=row>other</th><td> -14960</td><td>     87</td><td>   -556</td></tr>\n",
       "\t<tr><th scope=row>vessel_expenses</th><td>-241636</td><td>-206484</td><td>-238951</td></tr>\n",
       "\t<tr><th scope=row>admin_expenses</th><td>  -7377</td><td>  -7092</td><td>  -7402</td></tr>\n",
       "\t<tr><th scope=row>impairment</th><td>-287542</td><td>   8407</td><td> -10361</td></tr>\n",
       "\t<tr><th scope=row>finance_costs</th><td> -26444</td><td> -23201</td><td> -19146</td></tr>\n",
       "\t<tr><th scope=row>income_tax</th><td>   1729</td><td>   -533</td><td>  -1494</td></tr>\n",
       "\t<tr><th scope=row>depreciation</th><td>  45541</td><td>  31903</td><td>  35319</td></tr>\n",
       "\t<tr><th scope=row>cash_equivalents</th><td>  28757</td><td>  69648</td><td>  70155</td></tr>\n",
       "\t<tr><th scope=row>noncurrent_liabilities</th><td> 323929</td><td> 265215</td><td> 268255</td></tr>\n",
       "</tbody>\n",
       "</table>\n"
      ],
      "text/latex": [
       "\\begin{tabular}{r|lll}\n",
       "  & FY17 & FY18 & FY19\\\\\n",
       "\\hline\n",
       "\trevenue &  221766 &  200444 &  239259\\\\\n",
       "\tinvest\\_income &     133 &     463 &    1278\\\\\n",
       "\tother &  -14960 &      87 &    -556\\\\\n",
       "\tvessel\\_expenses & -241636 & -206484 & -238951\\\\\n",
       "\tadmin\\_expenses &   -7377 &   -7092 &   -7402\\\\\n",
       "\timpairment & -287542 &    8407 &  -10361\\\\\n",
       "\tfinance\\_costs &  -26444 &  -23201 &  -19146\\\\\n",
       "\tincome\\_tax &    1729 &    -533 &   -1494\\\\\n",
       "\tdepreciation &   45541 &   31903 &   35319\\\\\n",
       "\tcash\\_equivalents &   28757 &   69648 &   70155\\\\\n",
       "\tnoncurrent\\_liabilities &  323929 &  265215 &  268255\\\\\n",
       "\\end{tabular}\n"
      ],
      "text/markdown": [
       "\n",
       "| <!--/--> | FY17 | FY18 | FY19 |\n",
       "|---|---|---|---|\n",
       "| revenue |  221766 |  200444 |  239259 |\n",
       "| invest_income |     133 |     463 |    1278 |\n",
       "| other |  -14960 |      87 |    -556 |\n",
       "| vessel_expenses | -241636 | -206484 | -238951 |\n",
       "| admin_expenses |   -7377 |   -7092 |   -7402 |\n",
       "| impairment | -287542 |    8407 |  -10361 |\n",
       "| finance_costs |  -26444 |  -23201 |  -19146 |\n",
       "| income_tax |    1729 |    -533 |   -1494 |\n",
       "| depreciation |   45541 |   31903 |   35319 |\n",
       "| cash_equivalents |   28757 |   69648 |   70155 |\n",
       "| noncurrent_liabilities |  323929 |  265215 |  268255 |\n",
       "\n"
      ],
      "text/plain": [
       "                       FY17    FY18    FY19   \n",
       "revenue                 221766  200444  239259\n",
       "invest_income              133     463    1278\n",
       "other                   -14960      87    -556\n",
       "vessel_expenses        -241636 -206484 -238951\n",
       "admin_expenses           -7377   -7092   -7402\n",
       "impairment             -287542    8407  -10361\n",
       "finance_costs           -26444  -23201  -19146\n",
       "income_tax                1729    -533   -1494\n",
       "depreciation             45541   31903   35319\n",
       "cash_equivalents         28757   69648   70155\n",
       "noncurrent_liabilities  323929  265215  268255"
      ]
     },
     "metadata": {},
     "output_type": "display_data"
    },
    {
     "data": {
      "text/html": [
       "<table>\n",
       "<thead><tr><th></th><th scope=col>profit_loss_total</th><th scope=col>ordinary_shares</th><th scope=col>earnings_per_share</th><th scope=col>price_per_share</th><th scope=col>pe_ratio</th><th scope=col>ebitda</th><th scope=col>enterprise_value</th><th scope=col>ev_ebitda_ratio</th></tr></thead>\n",
       "<tbody>\n",
       "\t<tr><th scope=row>FY17</th><td>-354331</td><td>402771 </td><td>-87.973</td><td>17.585 </td><td>-0.200 </td><td> 3467  </td><td>365999 </td><td>105.566</td></tr>\n",
       "\t<tr><th scope=row>FY18</th><td> -27909</td><td>678468 </td><td> -4.114</td><td>24.000 </td><td>-5.834 </td><td>19321  </td><td>358399 </td><td> 18.550</td></tr>\n",
       "\t<tr><th scope=row>FY19</th><td> -37373</td><td>858077 </td><td> -4.355</td><td>19.000 </td><td>-4.363 </td><td>28947  </td><td>361135 </td><td> 12.476</td></tr>\n",
       "</tbody>\n",
       "</table>\n"
      ],
      "text/latex": [
       "\\begin{tabular}{r|llllllll}\n",
       "  & profit\\_loss\\_total & ordinary\\_shares & earnings\\_per\\_share & price\\_per\\_share & pe\\_ratio & ebitda & enterprise\\_value & ev\\_ebitda\\_ratio\\\\\n",
       "\\hline\n",
       "\tFY17 & -354331 & 402771  & -87.973 & 17.585  & -0.200  &  3467   & 365999  & 105.566\\\\\n",
       "\tFY18 &  -27909 & 678468  &  -4.114 & 24.000  & -5.834  & 19321   & 358399  &  18.550\\\\\n",
       "\tFY19 &  -37373 & 858077  &  -4.355 & 19.000  & -4.363  & 28947   & 361135  &  12.476\\\\\n",
       "\\end{tabular}\n"
      ],
      "text/markdown": [
       "\n",
       "| <!--/--> | profit_loss_total | ordinary_shares | earnings_per_share | price_per_share | pe_ratio | ebitda | enterprise_value | ev_ebitda_ratio |\n",
       "|---|---|---|---|---|---|---|---|---|\n",
       "| FY17 | -354331 | 402771  | -87.973 | 17.585  | -0.200  |  3467   | 365999  | 105.566 |\n",
       "| FY18 |  -27909 | 678468  |  -4.114 | 24.000  | -5.834  | 19321   | 358399  |  18.550 |\n",
       "| FY19 |  -37373 | 858077  |  -4.355 | 19.000  | -4.363  | 28947   | 361135  |  12.476 |\n",
       "\n"
      ],
      "text/plain": [
       "     profit_loss_total ordinary_shares earnings_per_share price_per_share\n",
       "FY17 -354331           402771          -87.973            17.585         \n",
       "FY18  -27909           678468           -4.114            24.000         \n",
       "FY19  -37373           858077           -4.355            19.000         \n",
       "     pe_ratio ebitda enterprise_value ev_ebitda_ratio\n",
       "FY17 -0.200    3467  365999           105.566        \n",
       "FY18 -5.834   19321  358399            18.550        \n",
       "FY19 -4.363   28947  361135            12.476        "
      ]
     },
     "metadata": {},
     "output_type": "display_data"
    }
   ],
   "source": [
    "# Add cash equivalents and non current liabilities to the financials data\n",
    "cash_equivalents <- c(28757, 69648, 70155)\n",
    "noncurrent_liabilities <- c(323929, 265215, 268255)\n",
    "financials[\"cash_equivalents\",] <- cash_equivalents\n",
    "financials[\"noncurrent_liabilities\",] <- noncurrent_liabilities\n",
    "financials\n",
    "\n",
    "# Calculate Enterprise Value \n",
    "enterprise_value <- round(ordinary_shares * price_per_share / 100 + noncurrent_liabilities - cash_equivalents)\n",
    "\n",
    "# Calculate EV/EBITDA\n",
    "ev_ebitda_ratio <- round(enterprise_value / ebitda, 3)\n",
    "\n",
    "# Add new columns to the analysis dataframe with the results\n",
    "analysis$ebitda <- ebitda\n",
    "analysis$enterprise_value <- enterprise_value\n",
    "analysis$ev_ebitda_ratio <- ev_ebitda_ratio\n",
    "analysis"
   ]
  },
  {
   "cell_type": "markdown",
   "metadata": {},
   "source": [
    "The script below calculates the EV/EBITDA ratio for each month of the 2018 calendar year using the FY18 financials data."
   ]
  },
  {
   "cell_type": "code",
   "execution_count": 14,
   "metadata": {},
   "outputs": [
    {
     "data": {
      "text/html": [
       "<table>\n",
       "<thead><tr><th></th><th scope=col>price_monthly</th><th scope=col>pe_ratio_monthly</th><th scope=col>ev_ebitda_ratio</th></tr></thead>\n",
       "<tbody>\n",
       "\t<tr><th scope=row>2018-01-31</th><td>28.5  </td><td>-6.928</td><td>20.130</td></tr>\n",
       "\t<tr><th scope=row>2018-02-28</th><td>27.0  </td><td>-6.563</td><td>19.603</td></tr>\n",
       "\t<tr><th scope=row>2018-03-29</th><td>23.0  </td><td>-5.591</td><td>18.199</td></tr>\n",
       "\t<tr><th scope=row>2018-04-30</th><td>24.0  </td><td>-5.834</td><td>18.550</td></tr>\n",
       "\t<tr><th scope=row>2018-05-31</th><td>22.5  </td><td>-5.469</td><td>18.023</td></tr>\n",
       "\t<tr><th scope=row>2018-06-29</th><td>23.0  </td><td>-5.591</td><td>18.199</td></tr>\n",
       "\t<tr><th scope=row>2018-07-31</th><td>24.5  </td><td>-5.955</td><td>18.725</td></tr>\n",
       "\t<tr><th scope=row>2018-08-31</th><td>27.0  </td><td>-6.563</td><td>19.603</td></tr>\n",
       "\t<tr><th scope=row>2018-09-28</th><td>22.0  </td><td>-5.348</td><td>17.847</td></tr>\n",
       "\t<tr><th scope=row>2018-10-31</th><td>25.0  </td><td>-6.077</td><td>18.901</td></tr>\n",
       "\t<tr><th scope=row>2018-11-30</th><td>23.0  </td><td>-5.591</td><td>18.199</td></tr>\n",
       "\t<tr><th scope=row>2018-12-31</th><td>20.0  </td><td>-4.861</td><td>17.145</td></tr>\n",
       "</tbody>\n",
       "</table>\n"
      ],
      "text/latex": [
       "\\begin{tabular}{r|lll}\n",
       "  & price\\_monthly & pe\\_ratio\\_monthly & ev\\_ebitda\\_ratio\\\\\n",
       "\\hline\n",
       "\t2018-01-31 & 28.5   & -6.928 & 20.130\\\\\n",
       "\t2018-02-28 & 27.0   & -6.563 & 19.603\\\\\n",
       "\t2018-03-29 & 23.0   & -5.591 & 18.199\\\\\n",
       "\t2018-04-30 & 24.0   & -5.834 & 18.550\\\\\n",
       "\t2018-05-31 & 22.5   & -5.469 & 18.023\\\\\n",
       "\t2018-06-29 & 23.0   & -5.591 & 18.199\\\\\n",
       "\t2018-07-31 & 24.5   & -5.955 & 18.725\\\\\n",
       "\t2018-08-31 & 27.0   & -6.563 & 19.603\\\\\n",
       "\t2018-09-28 & 22.0   & -5.348 & 17.847\\\\\n",
       "\t2018-10-31 & 25.0   & -6.077 & 18.901\\\\\n",
       "\t2018-11-30 & 23.0   & -5.591 & 18.199\\\\\n",
       "\t2018-12-31 & 20.0   & -4.861 & 17.145\\\\\n",
       "\\end{tabular}\n"
      ],
      "text/markdown": [
       "\n",
       "| <!--/--> | price_monthly | pe_ratio_monthly | ev_ebitda_ratio |\n",
       "|---|---|---|---|\n",
       "| 2018-01-31 | 28.5   | -6.928 | 20.130 |\n",
       "| 2018-02-28 | 27.0   | -6.563 | 19.603 |\n",
       "| 2018-03-29 | 23.0   | -5.591 | 18.199 |\n",
       "| 2018-04-30 | 24.0   | -5.834 | 18.550 |\n",
       "| 2018-05-31 | 22.5   | -5.469 | 18.023 |\n",
       "| 2018-06-29 | 23.0   | -5.591 | 18.199 |\n",
       "| 2018-07-31 | 24.5   | -5.955 | 18.725 |\n",
       "| 2018-08-31 | 27.0   | -6.563 | 19.603 |\n",
       "| 2018-09-28 | 22.0   | -5.348 | 17.847 |\n",
       "| 2018-10-31 | 25.0   | -6.077 | 18.901 |\n",
       "| 2018-11-30 | 23.0   | -5.591 | 18.199 |\n",
       "| 2018-12-31 | 20.0   | -4.861 | 17.145 |\n",
       "\n"
      ],
      "text/plain": [
       "           price_monthly pe_ratio_monthly ev_ebitda_ratio\n",
       "2018-01-31 28.5          -6.928           20.130         \n",
       "2018-02-28 27.0          -6.563           19.603         \n",
       "2018-03-29 23.0          -5.591           18.199         \n",
       "2018-04-30 24.0          -5.834           18.550         \n",
       "2018-05-31 22.5          -5.469           18.023         \n",
       "2018-06-29 23.0          -5.591           18.199         \n",
       "2018-07-31 24.5          -5.955           18.725         \n",
       "2018-08-31 27.0          -6.563           19.603         \n",
       "2018-09-28 22.0          -5.348           17.847         \n",
       "2018-10-31 25.0          -6.077           18.901         \n",
       "2018-11-30 23.0          -5.591           18.199         \n",
       "2018-12-31 20.0          -4.861           17.145         "
      ]
     },
     "metadata": {},
     "output_type": "display_data"
    }
   ],
   "source": [
    "# Calculate monthly EV / EBITDA ratios\n",
    "enterprise_value_monthly <- analysis[\"FY18\", \"ordinary_shares\"] * prices_CY18_monthly / 100 + \n",
    "    financials[\"noncurrent_liabilities\", \"FY18\"] - financials[\"cash_equivalents\", \"FY18\"]\n",
    "ev_ebitda_ratio_monthly <- round(enterprise_value_monthly / analysis[\"FY18\", \"ebitda\"], 3)\n",
    "names(ev_ebitda_ratio_monthly) <- \"ev_ebitda_ratio\"\n",
    "\n",
    "# Add new columns to the analysis_monthly dataframe with the results\n",
    "analysis_monthly$ev_ebitda_ratio <- ev_ebitda_ratio_monthly\n",
    "analysis_monthly"
   ]
  },
  {
   "cell_type": "markdown",
   "metadata": {},
   "source": [
    "Unlike the PE ratio, the results show that the EV/EBITDA ratio moves in tandem with the monthly share price. A higher EV/EBITDA ratio indicates a higher valuation for the company relative to its operating cash flow."
   ]
  }
 ],
 "metadata": {
  "kernelspec": {
   "display_name": "R",
   "language": "R",
   "name": "ir"
  },
  "language_info": {
   "codemirror_mode": "r",
   "file_extension": ".r",
   "mimetype": "text/x-r-source",
   "name": "R",
   "pygments_lexer": "r",
   "version": "3.6.1"
  }
 },
 "nbformat": 4,
 "nbformat_minor": 2
}
